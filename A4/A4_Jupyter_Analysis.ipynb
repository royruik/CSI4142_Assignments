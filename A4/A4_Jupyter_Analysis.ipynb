{
 "cells": [
  {
   "cell_type": "markdown",
   "metadata": {},
   "source": [
    "# **Unsupervised Learning Clustering and Recommendations: Amazon apparels data review**\n",
    "\n",
    "**Group Number:** 97  \n",
    "**Members:**  \n",
    "Roy Rui #300176548  \n",
    "Jiayi Ma #300263220\n",
    " \n",
    "\n"
   ]
  },
  {
   "cell_type": "markdown",
   "metadata": {},
   "source": [
    "## **Introduction**\n",
    "\n",
    "\n",
    "\n",
    "\n",
    "\n",
    "\n",
    "\n",
    "\n",
    "## Dataset: Amazon apparels data review\n",
    "**Author**: theKen Jin   \n",
    "**Ref**:  [Source](https://www.kaggle.com/datasets/thekenjin/amazonapparelsdata)  \n",
    "**Shape**:   \n",
    "**Description**:  \n",
    "\n",
    "\n",
    "\n",
    "\n"
   ]
  },
  {
   "cell_type": "markdown",
   "metadata": {},
   "source": [
    "**General Imports**"
   ]
  },
  {
   "cell_type": "code",
   "execution_count": null,
   "metadata": {},
   "outputs": [],
   "source": [
    "import pandas as pd\n",
    "import matplotlib.pyplot as plt\n",
    "import seaborn as sns\n",
    "import numpy as np"
   ]
  },
  {
   "cell_type": "markdown",
   "metadata": {},
   "source": [
    "# **Dataset**  \n",
    "### **Load Dataset**  "
   ]
  },
  {
   "cell_type": "code",
   "execution_count": null,
   "metadata": {},
   "outputs": [],
   "source": [
    "# Load the datasets\n",
    "amazon_clothing = pd.read_csv(\"dataset/uAmazon-clothing-info.csv\")\n",
    "clothing_review = pd.read_csv(\"dataset/Clothing-Reviews.csv\")"
   ]
  },
  {
   "cell_type": "markdown",
   "metadata": {},
   "source": [
    "## **Conclusion**  \n",
    "\n"
   ]
  },
  {
   "cell_type": "markdown",
   "metadata": {},
   "source": [
    "# **References**  \n",
    "\n",
    "## **Dataset Used**  \n",
    "Dataset: Amazon apparels data review  \n",
    "Author: theKen Jin   \n",
    "Ref: [https://www.kaggle.com/datasets/thekenjin/amazonapparelsdata](https://www.kaggle.com/datasets/thekenjin/amazonapparelsdata)\n",
    "\n",
    "\n",
    "\n",
    "---\n",
    "\n",
    "## **Libraries Knowledge**  \n",
    " **Data Visualization**  \n",
    "- **Matplotlib**: [https://matplotlib.org/stable/tutorials/index](https://matplotlib.org/stable/tutorials/index)  \n",
    "- **Seaborn**: [https://seaborn.pydata.org/tutorial.html](https://seaborn.pydata.org/tutorial.html)  \n",
    "- **Numpy**: [https://www.w3schools.com/python/numpy/default.asp](https://www.w3schools.com/python/numpy/default.asp)\n",
    "- **Pearsonr**: [https://docs.scipy.org/doc/scipy/reference/generated/scipy.stats.pearsonr.html](https://docs.scipy.org/doc/scipy/reference/generated/scipy.stats.pearsonr.html)  \n",
    "\n",
    "---\n",
    "\n",
    "## **Acknowledgments**\n",
    "- **ChatGPT**: Formatting markdown texts, paraphrasing, grammar checks.  \n",
    "- **VSCode Copilot & ChatGPT**: Code debugging, commenting, and troubleshooting assistance.  \n"
   ]
  }
 ],
 "metadata": {
  "kernelspec": {
   "display_name": "Python 3",
   "language": "python",
   "name": "python3"
  },
  "language_info": {
   "codemirror_mode": {
    "name": "ipython",
    "version": 3
   },
   "file_extension": ".py",
   "mimetype": "text/x-python",
   "name": "python",
   "nbconvert_exporter": "python",
   "pygments_lexer": "ipython3",
   "version": "3.12.8"
  }
 },
 "nbformat": 4,
 "nbformat_minor": 2
}
