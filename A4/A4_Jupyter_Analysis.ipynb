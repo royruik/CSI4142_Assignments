{
 "cells": [
  {
   "cell_type": "markdown",
   "metadata": {},
   "source": [
    "# **Unsupervised Learning Clustering and Recommendations: Amazon apparels data review**\n",
    "\n",
    "**Group Number:** 97  \n",
    "**Members:**  \n",
    "Roy Rui #300176548  \n",
    "Jiayi Ma #300263220\n",
    " \n",
    "\n"
   ]
  },
  {
   "cell_type": "markdown",
   "metadata": {},
   "source": [
    "## **Dataset I: Amazon Clothing Product Metadata**  \n",
    "**Author**: Kaggle · The Ken Jin  \n",
    "**Ref**: [Source](https://www.kaggle.com/datasets/thekenjin/amazonapparelsdata/data)  \n",
    "\n",
    "**Filename**: `Amazon-clothing-info.csv`  \n",
    "**Shape**: **19 Columns, 28,395 Rows**\n",
    "\n",
    "### **Description**  \n",
    "This dataset provides detailed metadata for Amazon apparel products, such as pricing, brand, availability, and images. It is commonly used in recommendation systems, metadata analysis, and enriching review-based datasets.\n",
    "\n",
    "| Feature              | Description                                                       | Data Type   |\n",
    "|----------------------|-------------------------------------------------------------------|-------------|\n",
    "| `sku`                | Stock Keeping Unit, product-specific identifier                   | Categorical |\n",
    "| `asin`               | Amazon Standard Identification Number                             | Categorical |\n",
    "| `product_type_name`  | Category/type of the clothing product                             | Categorical |\n",
    "| `formatted_price`    | Product price as a string (e.g., `$25.99`)                        | Categorical |\n",
    "| `author`             | Author or designer of the product                                 | Categorical |\n",
    "| `color`              | Color of the item                                                 | Categorical |\n",
    "| `brand`              | Brand name of the product                                         | Categorical |\n",
    "| `publisher`          | Publisher or releasing entity                                     | Categorical |\n",
    "| `availability`       | Description of stock status                                       | Categorical |\n",
    "| `reviews`            | Review metadata or raw review info                                | Categorical |\n",
    "| `large_image_url`    | Link to large product image                                       | Categorical |\n",
    "| `availability_type`  | Encoded value for stock availability                              | Categorical |\n",
    "| `small_image_url`    | Link to small product image                                       | Categorical |\n",
    "| `editorial_review`   | Product description/editorial review                              | Categorical |\n",
    "| `title`              | Title/name of the product                                         | Categorical |\n",
    "| `model`              | Model name/number                                                 | Categorical |\n",
    "| `medium_image_url`   | Link to medium product image                                      | Categorical |\n",
    "| `manufacturer`       | Manufacturer of the item                                          | Categorical |\n",
    "| `editorial_reivew`   | (Probable typo) Duplicate of `editorial_review`                   | Categorical |\n",
    " \n",
    "**Filename**: `Clothing-Reviews.csv`  \n",
    "**Shape**: **6 Columns, 49,959 Rows**\n",
    "\n",
    "### **Description**  \n",
    "This dataset contains customer-written reviews of apparel products on Amazon. It includes review scores, summaries, and full review texts, tied to product identifiers (`asin`). It is suitable for **sentiment analysis, product feedback analysis**, and can be merged with the product metadata.\n",
    "\n",
    "| Feature           | Description                                               | Data Type   |\n",
    "|------------------|-----------------------------------------------------------|-------------|\n",
    "| `asin`           | Amazon product identifier, foreign key to product metadata| Categorical |\n",
    "| `title`          | Product title                                              | Categorical |\n",
    "| `review_userId`  | Unique user identifier                                     | Categorical |\n",
    "| `review_score`   | Star rating (1 to 5)                                       | Numerical   |\n",
    "| `review_summary` | Short headline/summary of the review                      | Textual     |\n",
    "| `review_text`    | Full written review from the user                         | Textual     |\n"
   ]
  },
  {
   "cell_type": "markdown",
   "metadata": {},
   "source": [
    "**General Imports**"
   ]
  },
  {
   "cell_type": "code",
   "execution_count": null,
   "metadata": {},
   "outputs": [],
   "source": [
    "import pandas as pd\n",
    "import matplotlib.pyplot as plt\n",
    "import seaborn as sns\n",
    "import numpy as np"
   ]
  },
  {
   "cell_type": "markdown",
   "metadata": {},
   "source": [
    "# **Dataset**  \n",
    "### **Load Dataset**  "
   ]
  },
  {
   "cell_type": "code",
   "execution_count": null,
   "metadata": {},
   "outputs": [],
   "source": [
    "# Load the datasets\n",
    "amazon_clothing = pd.read_csv(\"dataset/Amazon-clothing-info.csv\")\n",
    "clothing_review = pd.read_csv(\"dataset/Clothing-Reviews.csv\")"
   ]
  },
  {
   "cell_type": "markdown",
   "metadata": {},
   "source": [
    "## **Conclusion**  \n",
    "\n"
   ]
  },
  {
   "cell_type": "markdown",
   "metadata": {},
   "source": [
    "# **References**  \n",
    "\n",
    "## **Dataset Used**  \n",
    "Dataset: Amazon apparels data review  \n",
    "Author: theKen Jin   \n",
    "Ref: [https://www.kaggle.com/datasets/thekenjin/amazonapparelsdata](https://www.kaggle.com/datasets/thekenjin/amazonapparelsdata)\n",
    "\n",
    "\n",
    "\n",
    "---\n",
    "\n",
    "## **Libraries Knowledge**  \n",
    " **Data Visualization**  \n",
    "- **Matplotlib**: [https://matplotlib.org/stable/tutorials/index](https://matplotlib.org/stable/tutorials/index)  \n",
    "- **Seaborn**: [https://seaborn.pydata.org/tutorial.html](https://seaborn.pydata.org/tutorial.html)  \n",
    "- **Numpy**: [https://www.w3schools.com/python/numpy/default.asp](https://www.w3schools.com/python/numpy/default.asp)\n",
    "- **Pearsonr**: [https://docs.scipy.org/doc/scipy/reference/generated/scipy.stats.pearsonr.html](https://docs.scipy.org/doc/scipy/reference/generated/scipy.stats.pearsonr.html)  \n",
    "\n",
    "---\n",
    "\n",
    "## **Acknowledgments**\n",
    "- **ChatGPT**: Formatting markdown texts, paraphrasing, grammar checks.  \n",
    "- **VSCode Copilot & ChatGPT**: Code debugging, commenting, and troubleshooting assistance.  \n"
   ]
  }
 ],
 "metadata": {
  "kernelspec": {
   "display_name": "Python 3",
   "language": "python",
   "name": "python3"
  },
  "language_info": {
   "codemirror_mode": {
    "name": "ipython",
    "version": 3
   },
   "file_extension": ".py",
   "mimetype": "text/x-python",
   "name": "python",
   "nbconvert_exporter": "python",
   "pygments_lexer": "ipython3",
   "version": "3.12.8"
  }
 },
 "nbformat": 4,
 "nbformat_minor": 2
}
