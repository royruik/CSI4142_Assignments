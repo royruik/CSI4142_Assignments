{
 "cells": [
  {
   "cell_type": "markdown",
   "metadata": {},
   "source": [
    "# **Clean Data Checking: Netflix Movies and TV Shows**\n",
    "\n",
    "**Group Number:** 97  \n",
    "**Members:**  \n",
    "Roy Rui #300176548  \n",
    "Jiayi Ma #300263220\n",
    " "
   ]
  },
  {
   "cell_type": "markdown",
   "metadata": {},
   "source": [
    "# **Dataset I: Netflix Movies and TV Shows Dataset**  \n",
    "**Author**: Shivam Bansal  \n",
    "**Ref**: [Source](https://www.kaggle.com/datasets/shivamb/netflix-shows)  \n",
    "**Shape**: **12 Columns, 8807 Rows**  \n",
    "\n",
    "## **Description**  \n",
    "The **Netflix Titles Dataset** contains metadata about TV shows and movies available on Netflix. The dataset provides detailed information such as **title, director, cast, country of production, release year, rating, and duration**. It is widely used for exploratory data analysis (EDA), data cleaning, and recommendation system development.\n",
    "\n",
    "| Feature         | Description  | Data Type   |\n",
    "|----------------|--------------|-------------|\n",
    "| show_id        | Unique identifier for each title | Categorical |\n",
    "| type           | Type of content (Movie or TV Show) | Categorical |\n",
    "| title         | Title of the movie or TV show | Categorical |\n",
    "| director       | Name of the director(s) | Categorical |\n",
    "| cast          | List of main actors | Categorical |\n",
    "| country        | Country where the content was produced | Categorical |\n",
    "| date_added     | Date when the content was added to Netflix | Categorical |\n",
    "| release_year   | Year of content release | Numerical |\n",
    "| rating         | Maturity rating (e.g., TV-MA, PG-13) | Categorical |\n",
    "| duration       | Duration in minutes (movies) or number of seasons (TV shows) | Categorical |\n",
    "| listed_in      | Genre categories (e.g., Drama, Comedy) | Categorical |\n",
    "| description    | Brief description of the title | Categorical |\n",
    "\n",
    "This dataset is useful for **content analysis, trends in streaming media, and audience preferences**, and is particularly valuable for **clean data checking, missing value analysis, and feature engineering**.\n"
   ]
  },
  {
   "cell_type": "markdown",
   "metadata": {},
   "source": [
    "**General Imports**"
   ]
  },
  {
   "cell_type": "code",
   "execution_count": 9,
   "metadata": {},
   "outputs": [],
   "source": [
    "# Import necessary libraries\n",
    "import pandas as pd\n",
    "import matplotlib.pyplot as plt\n",
    "import seaborn as sns\n",
    "\n",
    "# Load the Netflix dataset\n",
    "df = pd.read_csv('dataset1/netflix_titles.csv')\n"
   ]
  },
  {
   "cell_type": "markdown",
   "metadata": {},
   "source": [
    "## **Data Type Errors**"
   ]
  },
  {
   "cell_type": "markdown",
   "metadata": {},
   "source": [
    "### **Cell 1 – Description**  \n",
    "Data type errors occur when column values do not match their expected data types. This can cause:\n",
    "- **Inaccurate calculations** (e.g., `release_year` stored as a string instead of an integer).\n",
    "- **Sorting and filtering issues** (e.g., dates stored as text).\n",
    "- **Unexpected behaviors** when performing analysis.\n",
    "\n",
    "### **Objective**  \n",
    "- Identify columns where data types are incorrect.\n",
    "- Convert them to appropriate types for proper analysis.\n"
   ]
  },
  {
   "cell_type": "markdown",
   "metadata": {},
   "source": [
    "### **Cell 2 – Parameters for the Checker**"
   ]
  },
  {
   "cell_type": "code",
   "execution_count": null,
   "metadata": {},
   "outputs": [],
   "source": [
    "expected_dtypes = {\n",
    "    \"show_id\": \"object\",  # Unique ID, stored as a string\n",
    "    \"type\": \"object\",  # Categorical: Movie/TV Show\n",
    "    \"title\": \"object\",  # Movie/TV Show title, text\n",
    "    \"director\": \"object\",  # Names, text\n",
    "    \"cast\": \"object\",  # List of actors, text\n",
    "    \"country\": \"object\",  # Country names, text\n",
    "    \"date_added\": \"datetime64[ns]\",  # Should be converted to a datetime format\n",
    "    \"release_year\": \"int64\",  # Should be converted before checking\n",
    "    \"rating\": \"object\",  # Categorical text (e.g., PG, TV-MA)\n",
    "    \"duration\": \"object\",  # Contains both text and numbers\n",
    "    \"listed_in\": \"object\",  # Genre categories, text\n",
    "    \"description\": \"object\"  # Movie/TV Show description, text\n",
    "}\n"
   ]
  },
  {
   "cell_type": "markdown",
   "metadata": {},
   "source": [
    "### **Cell 3 – Checker Code**"
   ]
  },
  {
   "cell_type": "code",
   "execution_count": 11,
   "metadata": {},
   "outputs": [
    {
     "name": "stdout",
     "output_type": "stream",
     "text": [
      "{'date_added': dtype('O')}\n"
     ]
    }
   ],
   "source": [
    "# Function to check if actual data types match expected data types\n",
    "def check_data_types(df, expected_dtypes):\n",
    "    mismatches = {}\n",
    "    for column, expected_type in expected_dtypes.items():\n",
    "        actual_type = df[column].dtype\n",
    "        if str(actual_type) != expected_type:\n",
    "            mismatches[column] = actual_type\n",
    "    return mismatches\n",
    "\n",
    "# Run the data type check\n",
    "data_type_issues = check_data_types(df, expected_dtypes)\n",
    "print(data_type_issues)\n"
   ]
  },
  {
   "cell_type": "markdown",
   "metadata": {},
   "source": [
    "### **Cell 4 – Report of Findings**"
   ]
  },
  {
   "cell_type": "markdown",
   "metadata": {},
   "source": [
    "#### **Summary of Data Type Errors**\n",
    "After running the data type validation, the following column(s) were found to have incorrect data types:\n",
    "\n",
    "| Column Name  | Expected Type   | Actual Type |\n",
    "|-------------|----------------|------------|\n",
    "| `date_added` | `datetime64` | `object` |\n",
    "\n",
    "#### **Impact of Data Type Errors**\n",
    "- **`date_added` should be in datetime format** to allow for proper time-based analysis, such as filtering by year or month.\n",
    "- Since it's currently stored as a string (`object`), any date-related operations (sorting, filtering by date range) may not work correctly.\n",
    "\n",
    "#### **Next Steps**\n",
    "- Convert `date_added` to a `datetime64` format to ensure consistency in date-related operations.\n",
    "\n",
    "\n",
    "\n",
    "\n",
    "\n",
    "\n",
    "\n"
   ]
  }
 ],
 "metadata": {
  "kernelspec": {
   "display_name": "Python 3",
   "language": "python",
   "name": "python3"
  },
  "language_info": {
   "codemirror_mode": {
    "name": "ipython",
    "version": 3
   },
   "file_extension": ".py",
   "mimetype": "text/x-python",
   "name": "python",
   "nbconvert_exporter": "python",
   "pygments_lexer": "ipython3",
   "version": "3.12.8"
  }
 },
 "nbformat": 4,
 "nbformat_minor": 2
}
