{
 "cells": [
  {
   "cell_type": "markdown",
   "metadata": {},
   "source": [
    "# **Clean Data Checking: Netflix Movies and TV Shows**\n",
    "\n",
    "**Group Number:** 97  \n",
    "**Members:**  \n",
    "Roy Rui #300176548  \n",
    "Jiayi Ma #300263220\n",
    " "
   ]
  },
  {
   "cell_type": "markdown",
   "metadata": {},
   "source": [
    "# **Dataset I: Netflix Movies and TV Shows Dataset**  \n",
    "**Author**: Shivam Bansal  \n",
    "**Ref**: [Source](https://www.kaggle.com/datasets/shivamb/netflix-shows)  \n",
    "**Shape**: **12 Columns, 8807 Rows**  \n",
    "\n",
    "## **Description**  \n",
    "The **Netflix Titles Dataset** contains metadata about TV shows and movies available on Netflix. The dataset provides detailed information such as **title, director, cast, country of production, release year, rating, and duration**. It is widely used for exploratory data analysis (EDA), data cleaning, and recommendation system development.\n",
    "\n",
    "| Feature         | Description  | Data Type   |\n",
    "|----------------|--------------|-------------|\n",
    "| show_id        | Unique identifier for each title | Categorical |\n",
    "| type           | Type of content (Movie or TV Show) | Categorical |\n",
    "| title         | Title of the movie or TV show | Categorical |\n",
    "| director       | Name of the director(s) | Categorical |\n",
    "| cast          | List of main actors | Categorical |\n",
    "| country        | Country where the content was produced | Categorical |\n",
    "| date_added     | Date when the content was added to Netflix | Categorical |\n",
    "| release_year   | Year of content release | Numerical |\n",
    "| rating         | Maturity rating (e.g., TV-MA, PG-13) | Categorical |\n",
    "| duration       | Duration in minutes (movies) or number of seasons (TV shows) | Categorical |\n",
    "| listed_in      | Genre categories (e.g., Drama, Comedy) | Categorical |\n",
    "| description    | Brief description of the title | Categorical |\n",
    "\n",
    "This dataset is useful for **content analysis, trends in streaming media, and audience preferences**, and is particularly valuable for **clean data checking, missing value analysis, and feature engineering**.\n",
    "\n",
    "---\n"
   ]
  },
  {
   "cell_type": "markdown",
   "metadata": {},
   "source": [
    "**General Imports**"
   ]
  },
  {
   "cell_type": "code",
   "execution_count": 558,
   "metadata": {},
   "outputs": [],
   "source": [
    "# Import necessary libraries\n",
    "import pandas as pd\n",
    "import IPython.display as display\n",
    "from datetime import datetime\n",
    "\n",
    "# Load the Netflix dataset\n",
    "df = pd.read_csv('dataset1/netflix_titles.csv')\n"
   ]
  },
  {
   "cell_type": "markdown",
   "metadata": {},
   "source": [
    "---\n",
    "\n",
    "## **1. Data Type Errors**\n",
    "\n",
    "### **Cell 1 – Description**  \n",
    "Data type errors occur when column values do not match their expected data types. This can cause:\n",
    "- Inaccurate calculations \n",
    "- Sorting and filtering issues\n",
    "- Unexpected behaviors \n",
    "\n"
   ]
  },
  {
   "cell_type": "markdown",
   "metadata": {},
   "source": [
    "### **Cell 2 – Parameters for the Checker**"
   ]
  },
  {
   "cell_type": "code",
   "execution_count": 559,
   "metadata": {},
   "outputs": [],
   "source": [
    "expected_dtypes = {\n",
    "    \"show_id\": \"object\",  # Unique ID, stored as a string\n",
    "    \"type\": \"object\",  # Categorical: Movie/TV Show\n",
    "    \"title\": \"object\",  # Movie/TV Show title, text\n",
    "    \"director\": \"object\",  # Names, text\n",
    "    \"cast\": \"object\",  # List of actors, text\n",
    "    \"country\": \"object\",  # Country names, text\n",
    "    \"date_added\": \"datetime64[ns]\",  # Should be converted to a datetime format\n",
    "    \"release_year\": \"int64\",  # Should be converted before checking\n",
    "    \"rating\": \"object\",  # Categorical text (e.g., PG, TV-MA)\n",
    "    \"duration\": \"object\",  # Contains both text and numbers\n",
    "    \"listed_in\": \"object\",  # Genre categories, text\n",
    "    \"description\": \"object\"  # Movie/TV Show description, text\n",
    "}\n"
   ]
  },
  {
   "cell_type": "markdown",
   "metadata": {},
   "source": [
    "### **Cell 3 – Checker Code**"
   ]
  },
  {
   "cell_type": "code",
   "execution_count": 560,
   "metadata": {},
   "outputs": [
    {
     "name": "stdout",
     "output_type": "stream",
     "text": [
      "{'date_added': dtype('O')}\n"
     ]
    }
   ],
   "source": [
    "# Function to check if actual data types match expected data types\n",
    "def check_data_types(df, expected_dtypes):\n",
    "    mismatches = {}\n",
    "    for column, expected_type in expected_dtypes.items():\n",
    "        actual_type = df[column].dtype\n",
    "        if str(actual_type) != expected_type:\n",
    "            mismatches[column] = actual_type\n",
    "    return mismatches\n",
    "\n",
    "# Run the data type check\n",
    "data_type_issues = check_data_types(df, expected_dtypes)\n",
    "print(data_type_issues)\n"
   ]
  },
  {
   "cell_type": "markdown",
   "metadata": {},
   "source": [
    "### **Cell 4 – Report of Findings**"
   ]
  },
  {
   "cell_type": "markdown",
   "metadata": {},
   "source": [
    "#### **Summary of Data Type Errors**\n",
    "After running the data type validation, the following column(s) were found to have incorrect data types:\n",
    "\n",
    "| Column Name  | Expected Type   | Actual Type |\n",
    "|-------------|----------------|------------|\n",
    "| `date_added` | `datetime64[ns]` | `object` |\n",
    "\n",
    "#### **Impact of Data Type Errors**\n",
    "- **`date_added` should be in datetime format** to allow for proper time-based analysis, such as filtering by year or month.\n",
    "- Since it's currently stored as a string (`object`), any date-related operations (sorting, filtering by date range) may not work correctly.\n",
    "\n",
    "#### **Next Steps**\n",
    "- Convert `date_added` to a `datetime64` format to ensure consistency in date-related operations.\n",
    "\n",
    "\n",
    "\n",
    "\n",
    "\n",
    "---\n",
    "\n"
   ]
  },
  {
   "cell_type": "markdown",
   "metadata": {},
   "source": [
    "## **2. Range Errors**  \n",
    "\n",
    "### **Cell 1 – Description**  \n",
    "Range errors occur when numerical values fall outside a reasonable or predefined range. These errors can arise due to data entry mistakes, inconsistencies in data sources, or missing value replacements.  \n"
   ]
  },
  {
   "cell_type": "markdown",
   "metadata": {},
   "source": [
    "### **Cell 2 – Parameters for the Checker**"
   ]
  },
  {
   "cell_type": "code",
   "execution_count": 561,
   "metadata": {},
   "outputs": [],
   "source": [
    "# Define expected value ranges for numerical attributes\n",
    "expected_ranges = {\n",
    "    \"release_year\": (1900, 2025),  # Release year should be within this range  \n",
    "}\n"
   ]
  },
  {
   "cell_type": "markdown",
   "metadata": {},
   "source": [
    "### **Cell 3 – Checker Code**"
   ]
  },
  {
   "cell_type": "code",
   "execution_count": 562,
   "metadata": {},
   "outputs": [
    {
     "name": "stdout",
     "output_type": "stream",
     "text": [
      "Range issues: \n",
      "{}\n"
     ]
    }
   ],
   "source": [
    "# Ensure the release_year column is of integer type\n",
    "df['release_year'] = pd.to_numeric(df['release_year'], errors='coerce')\n",
    "\n",
    "# Function to check if numerical values fall within the expected range\n",
    "def check_range_errors(df, expected_ranges):\n",
    "    out_of_range = {}\n",
    "    for column, (min_val, max_val) in expected_ranges.items():\n",
    "        invalid_values = df[(df[column] < min_val) | (df[column] > max_val)][column].tolist()\n",
    "        if invalid_values:\n",
    "            out_of_range[column] = invalid_values\n",
    "    return out_of_range\n",
    "\n",
    "\n",
    "# Run the range check\n",
    "range_issues = check_range_errors(df, expected_ranges)\n",
    "print(\"Range issues: \")\n",
    "print(range_issues)\n"
   ]
  },
  {
   "cell_type": "markdown",
   "metadata": {},
   "source": [
    "### **Cell 4 – Report of Findings: Range Errors**\n",
    "\n",
    "### **Summary of Range Errors**\n",
    "After running the range validation, **no issues** were found in the dataset.\n",
    "\n",
    "### **Insights:**\n",
    "- All numerical values fall within the expected range.\n",
    "- `release_year` values are correctly constrained within **1900 - 2025**.\n",
    "\n",
    "\n",
    "---\n"
   ]
  },
  {
   "cell_type": "markdown",
   "metadata": {},
   "source": [
    "## **3. Format Errors**\n",
    "\n",
    "### **Cell 1 – Description**\n",
    "Format errors occur when categorical values do not follow the expected structure or pattern. These errors can arise due to:\n",
    "\n",
    "**Unexpected categorical values** (e.g.,`type` is either Movie or TV Show , a `rating` value that does not match standard TV/movie classifications).\n",
    "\n",
    "\n",
    "### **Cell 2 – Parameters for the Checker**\n"
   ]
  },
  {
   "cell_type": "code",
   "execution_count": 563,
   "metadata": {},
   "outputs": [],
   "source": [
    "# Define expected categorical values for formatting\n",
    "expected_categories = {\n",
    "    \"type\": {\"Movie\", \"TV Show\"},  # Should be either Movie or TV Show\n",
    "    \"rating\": {\"G\", \"TV-G\", \"PG\", \"PG-13\", \"TV-Y\", \"TV-Y7\", \"TV-Y7-FV\", \"TV-PG\",\n",
    "               \"TV-14\", \"R\", \"NR\", \"TV-MA\", \"NC-17\", \"UR\"},  # Expected ratings\n",
    "}\n",
    "\n",
    "# Define expected date format pattern for 'date_added'\n",
    "expected_date_pattern = r\"^[A-Za-z]+\\s\\d{1,2},\\s\\d{4}$\"  # e.g., \"September 24, 2021\"\n"
   ]
  },
  {
   "cell_type": "markdown",
   "metadata": {},
   "source": [
    "### **Cell 3 – Checker Code**"
   ]
  },
  {
   "cell_type": "code",
   "execution_count": 564,
   "metadata": {},
   "outputs": [
    {
     "name": "stdout",
     "output_type": "stream",
     "text": [
      "Category issues: \n",
      "{'rating': array(['74 min', '84 min', '66 min', nan], dtype=object)}\n",
      "Date format issues: \n",
      "{'date_added_raw':               date_added\n",
      "6066                 nan\n",
      "6079      August 4, 2017\n",
      "6174                 nan\n",
      "6177   December 23, 2018\n",
      "6213   December 15, 2018\n",
      "6279        July 1, 2017\n",
      "6304       July 26, 2019\n",
      "6318        May 26, 2016\n",
      "6357    November 1, 2019\n",
      "6361    December 2, 2017\n",
      "6368      March 15, 2019\n",
      "6393     October 1, 2019\n",
      "6451   December 15, 2017\n",
      "6456        July 1, 2017\n",
      "6457      August 4, 2017\n",
      "6460       April 4, 2017\n",
      "6519   December 28, 2016\n",
      "6549      March 31, 2018\n",
      "6560    February 1, 2019\n",
      "6603     January 1, 2018}\n"
     ]
    }
   ],
   "source": [
    "def check_categorical_values(df, expected_categories):\n",
    "    # Check if categorical columns contain unexpected values.\n",
    "    invalid_categories = {}\n",
    "    for column, valid_values in expected_categories.items():\n",
    "        if valid_values:  # Skip columns with None (diverse categories)\n",
    "            unexpected_values = df[~df[column].isin(valid_values)][column].unique()\n",
    "            if len(unexpected_values) > 0:\n",
    "                invalid_categories[column] = unexpected_values\n",
    "    return invalid_categories\n",
    "\n",
    "\n",
    "def check_date_format_issues(df):\n",
    "    # Dictionary to store errors\n",
    "    errors = {}\n",
    "\n",
    "    \n",
    "    # Ensure 'date_added' is treated as a string for pattern matching\n",
    "    df[\"date_added\"] = df[\"date_added\"].astype(str)\n",
    "\n",
    "    # Identify rows where 'date_added' does NOT match the expected format (excluding NaT and empty values)\n",
    "    raw_date_values = df[\n",
    "        (~df[\"date_added\"].str.match(expected_date_pattern, na=True)) &  # Mismatched formats \n",
    "        (df[\"date_added\"].str.strip() != \"\") & # Exclude empty strings\n",
    "        (~df[\"date_added\"].isna())  # Exclude missing values\n",
    "    ]\n",
    "\n",
    "    # Store the incorrect formats in the errors dictionary\n",
    "    if not raw_date_values.empty:\n",
    "        errors[\"date_added_raw\"] = raw_date_values[[\"date_added\"]].head(20)\n",
    "\n",
    "    return errors\n",
    "\n",
    "\n",
    "# Run the categorical value check\n",
    "category_issues = check_categorical_values(df, expected_categories)\n",
    "print(\"Category issues: \")\n",
    "print(category_issues)\n",
    "\n",
    "# Run the date format consistency check\n",
    "date_format_issues = check_date_format_issues(df)\n",
    "print(\"Date format issues: \")\n",
    "print(date_format_issues)\n"
   ]
  },
  {
   "cell_type": "markdown",
   "metadata": {},
   "source": [
    "### **Cell 4 – Report of Findings: Format Errors**\n",
    "\n",
    "The following column(s) have **incorrect category values**:\n",
    "\n",
    "| Column Name  | Unexpected Values |\n",
    "|-------------|------------------|\n",
    "| `rating`    | `'74 min', '84 min', '66 min'` |\n",
    "\n",
    "\n",
    "See following rows: "
   ]
  },
  {
   "cell_type": "code",
   "execution_count": 565,
   "metadata": {},
   "outputs": [
    {
     "data": {
      "text/html": [
       "<div>\n",
       "<style scoped>\n",
       "    .dataframe tbody tr th:only-of-type {\n",
       "        vertical-align: middle;\n",
       "    }\n",
       "\n",
       "    .dataframe tbody tr th {\n",
       "        vertical-align: top;\n",
       "    }\n",
       "\n",
       "    .dataframe thead th {\n",
       "        text-align: right;\n",
       "    }\n",
       "</style>\n",
       "<table border=\"1\" class=\"dataframe\">\n",
       "  <thead>\n",
       "    <tr style=\"text-align: right;\">\n",
       "      <th></th>\n",
       "      <th>show_id</th>\n",
       "      <th>type</th>\n",
       "      <th>title</th>\n",
       "      <th>director</th>\n",
       "      <th>cast</th>\n",
       "      <th>country</th>\n",
       "      <th>date_added</th>\n",
       "      <th>release_year</th>\n",
       "      <th>rating</th>\n",
       "      <th>duration</th>\n",
       "      <th>listed_in</th>\n",
       "      <th>description</th>\n",
       "    </tr>\n",
       "  </thead>\n",
       "  <tbody>\n",
       "    <tr>\n",
       "      <th>5541</th>\n",
       "      <td>s5542</td>\n",
       "      <td>Movie</td>\n",
       "      <td>Louis C.K. 2017</td>\n",
       "      <td>Louis C.K.</td>\n",
       "      <td>Louis C.K.</td>\n",
       "      <td>United States</td>\n",
       "      <td>April 4, 2017</td>\n",
       "      <td>2017</td>\n",
       "      <td>74 min</td>\n",
       "      <td>NaN</td>\n",
       "      <td>Movies</td>\n",
       "      <td>Louis C.K. muses on religion, eternal love, gi...</td>\n",
       "    </tr>\n",
       "    <tr>\n",
       "      <th>5794</th>\n",
       "      <td>s5795</td>\n",
       "      <td>Movie</td>\n",
       "      <td>Louis C.K.: Hilarious</td>\n",
       "      <td>Louis C.K.</td>\n",
       "      <td>Louis C.K.</td>\n",
       "      <td>United States</td>\n",
       "      <td>September 16, 2016</td>\n",
       "      <td>2010</td>\n",
       "      <td>84 min</td>\n",
       "      <td>NaN</td>\n",
       "      <td>Movies</td>\n",
       "      <td>Emmy-winning comedy writer Louis C.K. brings h...</td>\n",
       "    </tr>\n",
       "    <tr>\n",
       "      <th>5813</th>\n",
       "      <td>s5814</td>\n",
       "      <td>Movie</td>\n",
       "      <td>Louis C.K.: Live at the Comedy Store</td>\n",
       "      <td>Louis C.K.</td>\n",
       "      <td>Louis C.K.</td>\n",
       "      <td>United States</td>\n",
       "      <td>August 15, 2016</td>\n",
       "      <td>2015</td>\n",
       "      <td>66 min</td>\n",
       "      <td>NaN</td>\n",
       "      <td>Movies</td>\n",
       "      <td>The comic puts his trademark hilarious/thought...</td>\n",
       "    </tr>\n",
       "  </tbody>\n",
       "</table>\n",
       "</div>"
      ],
      "text/plain": [
       "     show_id   type                                 title    director  \\\n",
       "5541   s5542  Movie                       Louis C.K. 2017  Louis C.K.   \n",
       "5794   s5795  Movie                 Louis C.K.: Hilarious  Louis C.K.   \n",
       "5813   s5814  Movie  Louis C.K.: Live at the Comedy Store  Louis C.K.   \n",
       "\n",
       "            cast        country          date_added  release_year  rating  \\\n",
       "5541  Louis C.K.  United States       April 4, 2017          2017  74 min   \n",
       "5794  Louis C.K.  United States  September 16, 2016          2010  84 min   \n",
       "5813  Louis C.K.  United States     August 15, 2016          2015  66 min   \n",
       "\n",
       "     duration listed_in                                        description  \n",
       "5541      NaN    Movies  Louis C.K. muses on religion, eternal love, gi...  \n",
       "5794      NaN    Movies  Emmy-winning comedy writer Louis C.K. brings h...  \n",
       "5813      NaN    Movies  The comic puts his trademark hilarious/thought...  "
      ]
     },
     "metadata": {},
     "output_type": "display_data"
    }
   ],
   "source": [
    "incorrect_ratings = df[df['rating'].isin(['74 min', '84 min', '66 min'])]\n",
    "display.display(incorrect_ratings)"
   ]
  },
  {
   "cell_type": "markdown",
   "metadata": {},
   "source": [
    "The following column(s) have **incorrectly formatted dates**:\n",
    "\n",
    "| Column Name  | Unexpected Format Examples |\n",
    "|-------------|---------------------------|\n",
    "| `date_added` | `' August 4, 2017'`, `' December 23, 2018'`, `' March 31, 2018'` | -> with additional space in front  \n",
    "\n",
    "See following rows: \n",
    "\n"
   ]
  },
  {
   "cell_type": "code",
   "execution_count": 566,
   "metadata": {},
   "outputs": [
    {
     "name": "stdout",
     "output_type": "stream",
     "text": [
      "['nan', ' August 4, 2017', 'nan', ' December 23, 2018', ' December 15, 2018', ' July 1, 2017', ' July 26, 2019', ' May 26, 2016', ' November 1, 2019', ' December 2, 2017', ' March 15, 2019', ' October 1, 2019', ' December 15, 2017', ' July 1, 2017', ' August 4, 2017', ' April 4, 2017', ' December 28, 2016', ' March 31, 2018', ' February 1, 2019', ' January 1, 2018']\n"
     ]
    }
   ],
   "source": [
    "print(date_format_issues[\"date_added_raw\"][\"date_added\"].tolist())"
   ]
  },
  {
   "cell_type": "markdown",
   "metadata": {},
   "source": [
    "#### **Insights:**\n",
    "- The `rating` column contains **duration values** (e.g., `'74 min'`), which should not be there. This suggests that some records in the `rating` column are **missput**.\n",
    "- The `date_added` column contains **inconsistent date formats**, which can cause parsing issues.\n",
    "\n",
    "#### **Next Steps:**\n",
    "- Convert all `date_added` values to a standard **datetime format (`YYYY-MM-DD`)**.\n",
    "- Investigate why **duration values** appear in the `rating` column.\n",
    "- Clean the `rating` column by ensuring only valid rating categories are included.\n",
    "\n",
    "---"
   ]
  },
  {
   "cell_type": "markdown",
   "metadata": {},
   "source": [
    "## **4. Consistency Errors**\n",
    "\n",
    "### **Cell 1 – Description**  \n",
    "Consistency errors occur when data values contradict expected logical constraints. These issues can lead to incorrect analysis and misinterpretation of results. Common examples include:  \n",
    "- **Dates occurring in the future** (e.g., `date_added` should not be later than today's date).  \n",
    "- **Unrealistic durations** (e.g., a movie duration of less than 0 minutes is likely incorrect).  \n",
    " \n",
    " ### **Cell 2 – Parameters for the Checker**\n"
   ]
  },
  {
   "cell_type": "code",
   "execution_count": 567,
   "metadata": {},
   "outputs": [],
   "source": [
    "# Define expected consistency checks\n",
    "consistency_checks = {\n",
    "    \"date_added\": datetime.today(),  # Should not be in the future\n",
    "    \"duration\": 0\n",
    "}"
   ]
  },
  {
   "cell_type": "markdown",
   "metadata": {},
   "source": [
    "### **Cell 3 – Checker Code**"
   ]
  },
  {
   "cell_type": "code",
   "execution_count": 568,
   "metadata": {},
   "outputs": [
    {
     "name": "stdout",
     "output_type": "stream",
     "text": [
      "{}\n"
     ]
    }
   ],
   "source": [
    "# Convert 'date_added' column to datetime\n",
    "df[\"date_added\"] = pd.to_datetime(df[\"date_added\"], errors='coerce')\n",
    "\n",
    "# Extract duration values for minutes only\n",
    "df[\"duration_mins\"] = df[\"duration\"].str.extract(r'(\\d+) min')[0].astype(float)\n",
    "\n",
    "# Function to check for consistency errors\n",
    "def check_consistency_errors(df, consistency_checks):\n",
    "    errors = {}\n",
    "\n",
    "    # Check if 'date_added' contains future dates\n",
    "    future_dates = df[df[\"date_added\"] > consistency_checks[\"date_added\"]]\n",
    "    if not future_dates.empty:\n",
    "        errors[\"date_added\"] = future_dates\n",
    "        \n",
    "    # Check if 'duration' for movies is less than 5 minutes\n",
    "    short_movies = df[(df[\"duration_mins\"] < consistency_checks[\"duration\"]) & df[\"duration\"].str.contains(\"min\", na=False)]\n",
    "    if not short_movies.empty:\n",
    "        errors[\"duration\"] = short_movies\n",
    "\n",
    "    return errors\n",
    "\n",
    "# Run the consistency check\n",
    "consistency_issues = check_consistency_errors(df, consistency_checks)\n",
    "print(consistency_issues)\n"
   ]
  },
  {
   "cell_type": "markdown",
   "metadata": {},
   "source": [
    "### **Cell 4 – Report of Findings: Consistency Errors**\n",
    "\n",
    "The consistency issues were not identified in this dataset.\n",
    "\n",
    "---"
   ]
  },
  {
   "cell_type": "markdown",
   "metadata": {},
   "source": [
    "## **5. Uniqueness Errors**\n",
    "\n",
    "### **Cell 1 – Description**\n",
    "Uniqueness errors occur when values that are expected to be unique contain duplicates. These errors can cause inconsistencies in data analysis and may indicate data integrity issues.\n",
    "\n",
    "- **Duplicate `show_id` values**: Each entry should have a unique `show_id`, as it serves as the primary identifier for movies and TV shows.\n",
    "- **Duplicate `title` values**: While multiple entries may share a title (e.g., different versions or releases), we check for cases where exact duplicates exist.  \n",
    "\n",
    " ### **Cell 2 – Parameters for the Checker** ***n/a***  \n",
    "\n",
    " ### **Cell 3 – Checker Code**\n"
   ]
  },
  {
   "cell_type": "code",
   "execution_count": 569,
   "metadata": {},
   "outputs": [
    {
     "name": "stdout",
     "output_type": "stream",
     "text": [
      "Uniqueness issues:\n",
      "{}\n"
     ]
    }
   ],
   "source": [
    "# Define a function to check uniqueness errors\n",
    "def check_uniqueness_errors(df):\n",
    "    errors = {}\n",
    "\n",
    "    # Check for duplicate show_id values\n",
    "    duplicate_show_ids = df[df.duplicated(subset=[\"show_id\"], keep=False)]\n",
    "    if not duplicate_show_ids.empty:\n",
    "        errors[\"duplicate_show_id\"] = duplicate_show_ids\n",
    "\n",
    "    # Check for duplicate title values\n",
    "    duplicate_titles = df[df.duplicated(subset=[\"title\"], keep=False)]\n",
    "    if not duplicate_titles.empty:\n",
    "        errors[\"duplicate_title\"] = duplicate_titles\n",
    "\n",
    "    return errors\n",
    "\n",
    "# Run the uniqueness check\n",
    "uniqueness_issues = check_uniqueness_errors(df)\n",
    "\n",
    "# Print results\n",
    "print(\"Uniqueness issues:\")\n",
    "print(uniqueness_issues)\n"
   ]
  },
  {
   "cell_type": "markdown",
   "metadata": {},
   "source": [
    "### **Cell 4 – Report of Findings: Uniqueness Errors**\n",
    "\n",
    "The Uniqueness issues were not identified in this dataset.\n",
    "\n",
    "---"
   ]
  },
  {
   "cell_type": "markdown",
   "metadata": {},
   "source": []
  }
 ],
 "metadata": {
  "kernelspec": {
   "display_name": "Python 3",
   "language": "python",
   "name": "python3"
  },
  "language_info": {
   "codemirror_mode": {
    "name": "ipython",
    "version": 3
   },
   "file_extension": ".py",
   "mimetype": "text/x-python",
   "name": "python",
   "nbconvert_exporter": "python",
   "pygments_lexer": "ipython3",
   "version": "3.12.8"
  }
 },
 "nbformat": 4,
 "nbformat_minor": 2
}
