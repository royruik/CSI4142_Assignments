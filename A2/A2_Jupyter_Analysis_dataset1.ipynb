{
 "cells": [
  {
   "cell_type": "markdown",
   "metadata": {},
   "source": [
    "# **Clean Data Checking: Netflix Movies and TV Shows**\n",
    "\n",
    "**Group Number:** 97  \n",
    "**Members:**  \n",
    "Roy Rui #300176548  \n",
    "Jiayi Ma #300263220\n",
    " "
   ]
  },
  {
   "cell_type": "markdown",
   "metadata": {},
   "source": [
    "# **Dataset I: Netflix Movies and TV Shows Dataset**  \n",
    "**Author**: Shivam Bansal  \n",
    "**Ref**: [Source](https://www.kaggle.com/datasets/shivamb/netflix-shows)  \n",
    "**Shape**: **12 Columns, 8807 Rows**  \n",
    "\n",
    "## **Description**  \n",
    "The **Netflix Titles Dataset** contains metadata about TV shows and movies available on Netflix. The dataset provides detailed information such as **title, director, cast, country of production, release year, rating, and duration**. It is widely used for exploratory data analysis (EDA), data cleaning, and recommendation system development.\n",
    "\n",
    "| Feature         | Description  | Data Type   |\n",
    "|----------------|--------------|-------------|\n",
    "| show_id        | Unique identifier for each title | Categorical |\n",
    "| type           | Type of content (Movie or TV Show) | Categorical |\n",
    "| title         | Title of the movie or TV show | Categorical |\n",
    "| director       | Name of the director(s) | Categorical |\n",
    "| cast          | List of main actors | Categorical |\n",
    "| country        | Country where the content was produced | Categorical |\n",
    "| date_added     | Date when the content was added to Netflix | Categorical |\n",
    "| release_year   | Year of content release | Numerical |\n",
    "| rating         | Maturity rating (e.g., TV-MA, PG-13) | Categorical |\n",
    "| duration       | Duration in minutes (movies) or number of seasons (TV shows) | Categorical |\n",
    "| listed_in      | Genre categories (e.g., Drama, Comedy) | Categorical |\n",
    "| description    | Brief description of the title | Categorical |\n",
    "\n",
    "This dataset is useful for **content analysis, trends in streaming media, and audience preferences**, and is particularly valuable for **clean data checking, missing value analysis, and feature engineering**.\n"
   ]
  },
  {
   "cell_type": "markdown",
   "metadata": {},
   "source": [
    "**General Imports**"
   ]
  },
  {
   "cell_type": "code",
   "execution_count": 5,
   "metadata": {},
   "outputs": [
    {
     "data": {
      "text/plain": [
       "show_id            0\n",
       "type               0\n",
       "title              0\n",
       "director        2634\n",
       "cast             825\n",
       "country          831\n",
       "date_added        10\n",
       "release_year       0\n",
       "rating             4\n",
       "duration           3\n",
       "listed_in          0\n",
       "description        0\n",
       "dtype: int64"
      ]
     },
     "execution_count": 5,
     "metadata": {},
     "output_type": "execute_result"
    }
   ],
   "source": [
    "# Import necessary libraries\n",
    "import pandas as pd\n",
    "import matplotlib.pyplot as plt\n",
    "import seaborn as sns\n",
    "\n",
    "# Load the Netflix dataset\n",
    "df = pd.read_csv('dataset1/netflix_titles.csv')\n",
    "\n",
    "# Display the first few rows of the dataset to understand its structure\n",
    "\n",
    "df.isnull().sum()\n",
    "\n",
    "# Basic descriptive statistics\n",
    "# df.describe(include='all')\n"
   ]
  }
 ],
 "metadata": {
  "kernelspec": {
   "display_name": "Python 3",
   "language": "python",
   "name": "python3"
  },
  "language_info": {
   "codemirror_mode": {
    "name": "ipython",
    "version": 3
   },
   "file_extension": ".py",
   "mimetype": "text/x-python",
   "name": "python",
   "nbconvert_exporter": "python",
   "pygments_lexer": "ipython3",
   "version": "3.12.8"
  }
 },
 "nbformat": 4,
 "nbformat_minor": 2
}
