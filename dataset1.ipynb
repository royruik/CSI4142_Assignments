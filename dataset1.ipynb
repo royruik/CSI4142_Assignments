{
 "cells": [
  {
   "cell_type": "markdown",
   "metadata": {},
   "source": [
    "### Cell 1 – Test name + description\n",
    "**Range check:**\n",
    "\n",
    "In this test, we will verify the range of a numerical value. The range is the minimum and maximum values that an attribute can have.\n"
   ]
  },
  {
   "cell_type": "markdown",
   "metadata": {},
   "source": [
    "-------------------------------------\n",
    "### Cell 2 – Parameters for the checker\n",
    "```python\n",
    "# Please enter the various attributes below to perform the test:\n",
    "\n",
    "attributes = ['salary', 'position', 'name', 'age']\n",
    "# Attribute selection\n",
    "test_attribute = 'salary'\n",
    "# Minimum (e.g. 0$)\n",
    "minimum = 0\n",
    "# Maximum (e.g. 200K$)\n",
    "maximum = 200000\n"
   ]
  },
  {
   "cell_type": "markdown",
   "metadata": {},
   "source": [
    "-------------------------------------\n",
    "### Cell 3 – Checker code\n",
    "\n",
    "# Filtering the dataset to find values out of range\n",
    "df_invalid = df[(df[test_attribute] < minimum) | (df[test_attribute] > maximum)]\n",
    "\n",
    "# Display the first few rows of invalid data\n",
    "df_invalid.head()\n"
   ]
  },
  {
   "cell_type": "markdown",
   "metadata": {},
   "source": [
    "-------------------------------------\n",
    "### Cell 4 – Report of findings\n",
    "  \n",
    "\n",
    "ID   | Name  | Profession  | Salary  \n",
    "-----------------------------------  \n",
    "12   | John  | Dentist    | 400K$  \n",
    "58   | Lucy  | Optometrist | -90$  \n"
   ]
  }
 ],
 "metadata": {
  "language_info": {
   "name": "python"
  }
 },
 "nbformat": 4,
 "nbformat_minor": 2
}
