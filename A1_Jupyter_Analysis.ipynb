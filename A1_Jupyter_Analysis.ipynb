{
 "cells": [
  {
   "cell_type": "markdown",
   "metadata": {},
   "source": [
    "# Exploratory Data Analysis: (dataset1) & Student Alcohol Consumption\n",
    "\n",
    "**Group Number:** 97  \n",
    "**Members:** Roy Rui #300176548 || Jiayi Ma\n",
    " \n",
    "\n"
   ]
  },
  {
   "cell_type": "markdown",
   "metadata": {},
   "source": [
    "## Introduction (Draft)\n",
    "The purpose of this report is to ______________\n",
    "- **Educators** who want to understand student learning patterns.\n",
    "- **School administrators** aiming to improve academic performance.\n",
    "- **Researchers** analyzing student behavior.\n",
    "\n",
    "We will provide **10 key insights** from our dataset, using Python for data analysis.\n",
    "\n",
    "## Dataset I: \n",
    "\n",
    "## Dataset II: Student Alcohol Consumption\n",
    "**Author**: UCI Machine Learning · Dmitrii Batogov  \n",
    "**Ref**: https://www.kaggle.com/datasets/uciml/student-alcohol-consumption  \n",
    "**Shape**: Main set (*student_por.csv*): **33 Columns 649 Rows** / with another merged set (*common_students.csv*) of **53 Columns 383 Rows**  \n",
    "**Description**:  \n",
    "| Feature       | Description  | Data Type   |\n",
    "|--------------|-------------|-------------|\n",
    "| **school**   | Student's school (GP: Gabriel Pereira, MS: Mousinho da Silveira) | Categorical |\n",
    "| **sex**      | Gender (F: Female, M: Male) | Categorical |\n",
    "| **age**      | Student's age (15-22) | Numerical |\n",
    "| **address**  | Home location (U: Urban, R: Rural) | Categorical |\n",
    "| **famsize**  | Family size (LE3: ≤3, GT3: >3) | Categorical |\n",
    "| **Pstatus**  | Parent's cohabitation status (T: Together, A: Apart) | Categorical |\n",
    "| **Medu**     | Mother's education (0-4) | Numerical |\n",
    "| **Fedu**     | Father's education (0-4) | Numerical |\n",
    "| **Mjob**     | Mother's job (Teacher, Health, Services, At_home, Other) | Categorical |\n",
    "| **Fjob**     | Father's job (Teacher, Health, Services, At_home, Other) | Categorical |\n",
    "| **reason**   | Reason for choosing this school (Home, Reputation, Course, Other) | Categorical |\n",
    "| **guardian** | Student’s guardian (Mother, Father, Other) | Categorical |\n",
    "| **traveltime** | Travel time to school (1-4, higher = longer) | Numerical |\n",
    "| **studytime** | Weekly study time (1-4, higher = more) | Numerical |\n",
    "| **failures** | Past class failures (0-4) | Numerical |\n",
    "| **schoolsup** | Extra educational support (Yes/No) | Categorical |\n",
    "| **famsup**   | Family educational support (Yes/No) | Categorical |\n",
    "| **paid**     | Extra paid classes (Yes/No) | Categorical |\n",
    "| **activities** | Extra-curricular activities (Yes/No) | Categorical |\n",
    "| **nursery**  | Attended nursery school (Yes/No) | Categorical |\n",
    "| **higher**   | Plans for higher education (Yes/No) | Categorical |\n",
    "| **internet** | Internet access at home (Yes/No) | Categorical |\n",
    "| **romantic** | In a romantic relationship (Yes/No) | Categorical |\n",
    "| **famrel**   | Family relationship quality (1-5) | Numerical |\n",
    "| **freetime** | Free time after school (1-5) | Numerical |\n",
    "| **goout**    | Going out with friends (1-5) | Numerical |\n",
    "| **Dalc**     | Workday alcohol consumption (1-5) | Numerical |\n",
    "| **Walc**     | Weekend alcohol consumption (1-5) | Numerical |\n",
    "| **health**   | Current health status (1-5) | Numerical |\n",
    "| **absences** | Number of school absences (0-93) | Numerical |\n",
    "| **G1**       | First period grade (0-20) | Numerical |\n",
    "| **G2**       | Second period grade (0-20) | Numerical |\n",
    "| **G3**       | Final grade (0-20, target variable) | Numerical |\n",
    "\n",
    "*Note that for the merged set, a special identifier **\"_math\"** and **\"_por\"** is used for distinguishing student records from the Math and Portuguese datasets. This ensures that attributes such as **G1, G2, G3, etc.** are correctly assigned to their respective courses without conflicts.*  \n",
    "*As description on Kaggle states, \"There are several (382) students that belong to both datasets，tthese students can be identified by searching for identical attributes,\" we verified that this is true. However, It is a bit irrational for certain columns not being identifier for identical students, we don't know why.*\n",
    "\n",
    "\n",
    "\n"
   ]
  },
  {
   "cell_type": "markdown",
   "metadata": {},
   "source": [
    "**Initialization**"
   ]
  },
  {
   "cell_type": "code",
   "execution_count": 5,
   "metadata": {},
   "outputs": [],
   "source": [
    "import pandas as pd\n",
    "import matplotlib.pyplot as plt"
   ]
  },
  {
   "cell_type": "markdown",
   "metadata": {},
   "source": [
    "**Dataset II**  \n",
    "**Dataset Population**"
   ]
  },
  {
   "cell_type": "code",
   "execution_count": 6,
   "metadata": {},
   "outputs": [
    {
     "ename": "ModuleNotFoundError",
     "evalue": "No module named 'seaborn'",
     "output_type": "error",
     "traceback": [
      "\u001b[1;31m---------------------------------------------------------------------------\u001b[0m",
      "\u001b[1;31mModuleNotFoundError\u001b[0m                       Traceback (most recent call last)",
      "Cell \u001b[1;32mIn[6], line 22\u001b[0m\n\u001b[0;32m     12\u001b[0m common_students \u001b[38;5;241m=\u001b[39m pd\u001b[38;5;241m.\u001b[39mmerge(\n\u001b[0;32m     13\u001b[0m     student_mat,\n\u001b[0;32m     14\u001b[0m     student_por,\n\u001b[0;32m     15\u001b[0m     on\u001b[38;5;241m=\u001b[39mmatching_columns,\n\u001b[0;32m     16\u001b[0m     suffixes\u001b[38;5;241m=\u001b[39m(\u001b[38;5;124m\"\u001b[39m\u001b[38;5;124m_math\u001b[39m\u001b[38;5;124m\"\u001b[39m, \u001b[38;5;124m\"\u001b[39m\u001b[38;5;124m_por\u001b[39m\u001b[38;5;124m\"\u001b[39m)\n\u001b[0;32m     17\u001b[0m )\n\u001b[0;32m     19\u001b[0m \u001b[38;5;66;03m# Save the dataset and verify the number of common students\u001b[39;00m\n\u001b[0;32m     20\u001b[0m \u001b[38;5;66;03m# common_students.to_csv(\"dataset2/common_students.csv\", index=False)\u001b[39;00m\n\u001b[0;32m     21\u001b[0m \u001b[38;5;66;03m# print(f\"Total common students: {common_students.shape[0]}\")\u001b[39;00m\n\u001b[1;32m---> 22\u001b[0m \u001b[38;5;28;01mimport\u001b[39;00m\u001b[38;5;250m \u001b[39m\u001b[38;5;21;01mseaborn\u001b[39;00m\u001b[38;5;250m \u001b[39m\u001b[38;5;28;01mas\u001b[39;00m\u001b[38;5;250m \u001b[39m\u001b[38;5;21;01msns\u001b[39;00m\n\u001b[0;32m     23\u001b[0m plt\u001b[38;5;241m.\u001b[39mfigure(figsize\u001b[38;5;241m=\u001b[39m(\u001b[38;5;241m12\u001b[39m,\u001b[38;5;241m5\u001b[39m))\n\u001b[0;32m     25\u001b[0m \u001b[38;5;66;03m# Plot histogram for Math Grades (G3)\u001b[39;00m\n",
      "\u001b[1;31mModuleNotFoundError\u001b[0m: No module named 'seaborn'"
     ]
    }
   ],
   "source": [
    "# Load the datasets\n",
    "student_mat = pd.read_csv(\"dataset2/student-mat.csv\", sep=\",\")\n",
    "student_por = pd.read_csv(\"dataset2/student-por.csv\", sep=\",\")\n",
    "\n",
    "# Define full matching columns (excluding G1, G2, G3)\n",
    "matching_columns = [\n",
    "    \"school\",\"sex\",\"age\",\"address\",\"famsize\",\"Pstatus\",\n",
    "    \"Medu\",\"Fedu\",\"Mjob\",\"Fjob\",\"reason\",\"nursery\",\"internet\"\n",
    "]\n",
    "\n",
    "# Merge common students using identifier columns, suffixes for duplicate columns.\n",
    "common_students = pd.merge(\n",
    "    student_mat,\n",
    "    student_por,\n",
    "    on=matching_columns,\n",
    "    suffixes=(\"_math\", \"_por\")\n",
    ")\n",
    "\n",
    "# Save the dataset and verify the number of common students\n",
    "# common_students.to_csv(\"dataset2/common_students.csv\", index=False)\n",
    "# print(f\"Total common students: {common_students.shape[0]}\")\n",
    "import seaborn as sns\n",
    "plt.figure(figsize=(12,5))\n",
    "\n",
    "# Plot histogram for Math Grades (G3)\n",
    "plt.hist(student_mat[\"G3\"], bins=10, color=\"blue\", alpha=0.6, label=\"Math\")\n",
    "\n",
    "# Plot histogram for Portuguese Grades (G3)\n",
    "plt.hist(student_por[\"G3\"], bins=10, color=\"red\", alpha=0.6, label=\"Portuguese\")\n",
    "\n",
    "# Labels and Title\n",
    "plt.xlabel(\"Final Grade (G3)\")\n",
    "plt.ylabel(\"Frequency\")\n",
    "plt.title(\"Distribution of Final Grades (G3) in Math and Portuguese Courses\")\n",
    "plt.legend()\n",
    "\n",
    "# Show the plot\n",
    "plt.show()"
   ]
  }
 ],
 "metadata": {
  "kernelspec": {
   "display_name": "Python 3",
   "language": "python",
   "name": "python3"
  },
  "language_info": {
   "codemirror_mode": {
    "name": "ipython",
    "version": 3
   },
   "file_extension": ".py",
   "mimetype": "text/x-python",
   "name": "python",
   "nbconvert_exporter": "python",
   "pygments_lexer": "ipython3",
   "version": "3.12.8"
  }
 },
 "nbformat": 4,
 "nbformat_minor": 2
}
